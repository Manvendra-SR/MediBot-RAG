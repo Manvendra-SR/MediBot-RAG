{
 "cells": [
  {
   "cell_type": "code",
   "execution_count": null,
   "metadata": {},
   "outputs": [
    {
     "data": {
      "text/plain": [
       "'c:\\\\Users\\\\manav\\\\OneDrive\\\\Desktop\\\\Medi Bot\\\\research'"
      ]
     },
     "execution_count": 1,
     "metadata": {},
     "output_type": "execute_result"
    }
   ],
   "source": [
    "%pwd"
   ]
  },
  {
   "cell_type": "code",
   "execution_count": 4,
   "metadata": {},
   "outputs": [],
   "source": [
    "import os\n",
    "os.chdir(\"../\")"
   ]
  },
  {
   "cell_type": "code",
   "execution_count": 2,
   "metadata": {},
   "outputs": [
    {
     "data": {
      "text/plain": [
       "'c:\\\\Users\\\\manav\\\\OneDrive\\\\Desktop\\\\Medi Bot'"
      ]
     },
     "execution_count": 2,
     "metadata": {},
     "output_type": "execute_result"
    }
   ],
   "source": [
    "%pwd"
   ]
  },
  {
   "cell_type": "code",
   "execution_count": 67,
   "metadata": {},
   "outputs": [
    {
     "name": "stdout",
     "output_type": "stream",
     "text": [
      "X5eabql772ixM3WYt0T3EGgQgE4aQTK6\n"
     ]
    }
   ],
   "source": [
    "from dotenv import load_dotenv\n",
    "import os\n",
    "\n",
    "load_dotenv()  # This reads your .env file\n",
    "os.environ[\"MISTRAL_API_KEY\"] = \"X5eabql772ixM3WYt0T3EGgQgE4aQTK6\"\n",
    "print(os.getenv(\"MISTRAL_API_KEY\"))  # Just to verify\n"
   ]
  },
  {
   "cell_type": "code",
   "execution_count": null,
   "metadata": {},
   "outputs": [
    {
     "name": "stdout",
     "output_type": "stream",
     "text": [
      "1.0.1\n"
     ]
    }
   ],
   "source": [
    "import langchain\n",
    "print(langchain.__version__)\n"
   ]
  },
  {
   "cell_type": "code",
   "execution_count": 7,
   "metadata": {},
   "outputs": [
    {
     "name": "stderr",
     "output_type": "stream",
     "text": [
      "c:\\Users\\manav\\anaconda3\\envs\\mediBot\\lib\\site-packages\\tqdm\\auto.py:21: TqdmWarning: IProgress not found. Please update jupyter and ipywidgets. See https://ipywidgets.readthedocs.io/en/stable/user_install.html\n",
      "  from .autonotebook import tqdm as notebook_tqdm\n"
     ]
    }
   ],
   "source": [
    "from langchain_community.document_loaders import PyPDFLoader, DirectoryLoader\n",
    "from langchain_text_splitters import RecursiveCharacterTextSplitter"
   ]
  },
  {
   "cell_type": "code",
   "execution_count": 8,
   "metadata": {},
   "outputs": [],
   "source": [
    "#Extract Data From the PDF File\n",
    "def load_pdf_file(data):\n",
    "    loader= DirectoryLoader(data,\n",
    "                            glob=\"*.pdf\",\n",
    "                            loader_cls=PyPDFLoader)\n",
    "\n",
    "    documents=loader.load()\n",
    "\n",
    "    return documents\n"
   ]
  },
  {
   "cell_type": "code",
   "execution_count": 9,
   "metadata": {},
   "outputs": [],
   "source": [
    "extracted_data=load_pdf_file(data='Data/')"
   ]
  },
  {
   "cell_type": "code",
   "execution_count": 9,
   "metadata": {},
   "outputs": [],
   "source": [
    "# extracted_data"
   ]
  },
  {
   "cell_type": "code",
   "execution_count": 10,
   "metadata": {},
   "outputs": [],
   "source": [
    "#Split the Data into Text Chunks\n",
    "def text_split(extracted_data):\n",
    "    text_splitter=RecursiveCharacterTextSplitter(chunk_size=500, chunk_overlap=20)\n",
    "    text_chunks=text_splitter.split_documents(extracted_data)\n",
    "    return text_chunks"
   ]
  },
  {
   "cell_type": "code",
   "execution_count": 11,
   "metadata": {},
   "outputs": [
    {
     "name": "stdout",
     "output_type": "stream",
     "text": [
      "Length of Text Chunks 5859\n"
     ]
    }
   ],
   "source": [
    "text_chunks=text_split(extracted_data)\n",
    "print(\"Length of Text Chunks\", len(text_chunks))"
   ]
  },
  {
   "cell_type": "code",
   "execution_count": 12,
   "metadata": {},
   "outputs": [],
   "source": [
    "from langchain_community.embeddings import HuggingFaceEmbeddings"
   ]
  },
  {
   "cell_type": "code",
   "execution_count": 13,
   "metadata": {},
   "outputs": [],
   "source": [
    "#Download the Embeddings from Hugging Face\n",
    "model_name = \"sentence-transformers/all-mpnet-base-v2\"\n",
    "model_kwargs = {'device': 'cuda'}\n",
    "encode_kwargs = {'normalize_embeddings': False}\n",
    "def download_hugging_face_embeddings():\n",
    "        embeddings = HuggingFaceEmbeddings(\n",
    "        model_name=model_name,\n",
    "        model_kwargs=model_kwargs,\n",
    "        encode_kwargs=encode_kwargs\n",
    "    )\n",
    "        return embeddings\n",
    "    \n"
   ]
  },
  {
   "cell_type": "code",
   "execution_count": 14,
   "metadata": {},
   "outputs": [
    {
     "name": "stderr",
     "output_type": "stream",
     "text": [
      "C:\\Users\\manav\\AppData\\Local\\Temp\\ipykernel_22628\\4267454138.py:6: LangChainDeprecationWarning: The class `HuggingFaceEmbeddings` was deprecated in LangChain 0.2.2 and will be removed in 1.0. An updated version of the class exists in the `langchain-huggingface package and should be used instead. To use it run `pip install -U `langchain-huggingface` and import as `from `langchain_huggingface import HuggingFaceEmbeddings``.\n",
      "  embeddings = HuggingFaceEmbeddings(\n"
     ]
    }
   ],
   "source": [
    "embeddings = download_hugging_face_embeddings()"
   ]
  },
  {
   "cell_type": "code",
   "execution_count": 15,
   "metadata": {},
   "outputs": [
    {
     "name": "stdout",
     "output_type": "stream",
     "text": [
      "Length 768\n"
     ]
    }
   ],
   "source": [
    "query_result = embeddings.embed_query(\"Hello world!\")\n",
    "print(\"Length\", len(query_result))"
   ]
  },
  {
   "cell_type": "code",
   "execution_count": 19,
   "metadata": {},
   "outputs": [],
   "source": [
    "# query_result"
   ]
  },
  {
   "cell_type": "code",
   "execution_count": 16,
   "metadata": {},
   "outputs": [
    {
     "data": {
      "text/plain": [
       "True"
      ]
     },
     "execution_count": 16,
     "metadata": {},
     "output_type": "execute_result"
    }
   ],
   "source": [
    "from dotenv import load_dotenv\n",
    "load_dotenv()"
   ]
  },
  {
   "cell_type": "code",
   "execution_count": null,
   "metadata": {},
   "outputs": [],
   "source": [
    "import faiss\n",
    "from langchain_community.docstore.in_memory import InMemoryDocstore\n",
    "from langchain_community.vectorstores import FAISS\n",
    "\n",
    "index = faiss.IndexFlatL2(len(embeddings.embed_query(\"hello world\")))\n",
    "\n",
    "vector_store = FAISS(\n",
    "    embedding_function=embeddings,\n",
    "    index=index,\n",
    "    docstore=InMemoryDocstore(),\n",
    "    index_to_docstore_id={},\n",
    ")\n",
    "\n",
    "vector_store.add_documents(text_chunks)"
   ]
  },
  {
   "cell_type": "code",
   "execution_count": 83,
   "metadata": {},
   "outputs": [],
   "source": [
    "# !pip check\n",
    "!pip freeze > requirements.txt\n",
    "# !pip uninstall pinecone-client pinecone-plugin-assistant -y\n",
    "# !pip install \"pinecone[grpc]\""
   ]
  },
  {
   "cell_type": "code",
   "execution_count": 26,
   "metadata": {},
   "outputs": [],
   "source": [
    "retriever = vector_store.as_retriever(search_type=\"similarity\", search_kwargs={\"k\": 3})"
   ]
  },
  {
   "cell_type": "code",
   "execution_count": 32,
   "metadata": {},
   "outputs": [],
   "source": [
    "query = \"What is acne?\"\n",
    "retrieved_docs = retriever.invoke(query)"
   ]
  },
  {
   "cell_type": "code",
   "execution_count": 33,
   "metadata": {},
   "outputs": [
    {
     "data": {
      "text/plain": [
       "[Document(id='285dd3c9-61f0-4542-ac7b-bc556f9829a3', metadata={'producer': 'PDFlib+PDI 5.0.0 (SunOS)', 'creator': 'PyPDF', 'creationdate': '2004-12-18T17:00:02-05:00', 'moddate': '2004-12-18T16:15:31-06:00', 'source': 'Data\\\\Medical_book.pdf', 'total_pages': 637, 'page': 37, 'page_label': '38'}, page_content='Acidosis see Respiratory acidosis; Renal\\ntubular acidosis; Metabolic acidosis\\nAcne\\nDefinition\\nAcne is a common skin disease characterized by\\npimples on the face, chest, and back. It occurs when the\\npores of the skin become clogged with oil, dead skin\\ncells, and bacteria.\\nDescription\\nAcne vulgaris, the medical term for common acne, is\\nthe most common skin disease. It affects nearly 17 million\\npeople in the United States. While acne can arise at any'),\n",
       " Document(id='4559a90b-ebae-4c80-85b3-659cbc9f2b5a', metadata={'producer': 'PDFlib+PDI 5.0.0 (SunOS)', 'creator': 'PyPDF', 'creationdate': '2004-12-18T17:00:02-05:00', 'moddate': '2004-12-18T16:15:31-06:00', 'source': 'Data\\\\Medical_book.pdf', 'total_pages': 637, 'page': 37, 'page_label': '38'}, page_content='acne.\\n• Environment. Exposure to oils and greases, polluted air,\\nand sweating in hot weather aggravate acne.\\n• Stress. Emotional stress may contribute to acne.\\nAcne is usually not conspicuous, although inflamed\\nlesions may cause pain, tenderness, itching, or swelling.\\nThe most troubling aspects of these lesions are the nega-\\ntive cosmetic effects and potential for scarring. Some\\npeople, especially teenagers, become emotionally upset\\nabout their condition, and have problems forming rela-'),\n",
       " Document(id='a253cdf5-49a8-4caf-9b68-dbde858bae4b', metadata={'producer': 'PDFlib+PDI 5.0.0 (SunOS)', 'creator': 'PyPDF', 'creationdate': '2004-12-18T17:00:02-05:00', 'moddate': '2004-12-18T16:15:31-06:00', 'source': 'Data\\\\Medical_book.pdf', 'total_pages': 637, 'page': 241, 'page_label': '242'}, page_content='KEY TERMS\\nAcne—A skin condition in which raised bumps,\\npimples, and cysts form on the face, neck, shoul-\\nders and upper back.\\nBacteria—Tiny, one-celled forms of life that cause\\nmany diseases and infections.\\nBowel—The intestine; a tube-like structure that\\nextends from the stomach to the anus. Some diges-\\ntive processes are carried out in the bowel before\\nfood passes out of the body as waste.\\nCyst—An abnormal sac or enclosed cavity in the\\nbody, filled with liquid or partially solid material.')]"
      ]
     },
     "execution_count": 33,
     "metadata": {},
     "output_type": "execute_result"
    }
   ],
   "source": [
    "retrieved_docs"
   ]
  },
  {
   "cell_type": "code",
   "execution_count": 74,
   "metadata": {},
   "outputs": [
    {
     "name": "stdout",
     "output_type": "stream",
     "text": [
      "content='**Acromegaly** is a rare hormonal disorder that occurs when the **pituitary gland** (a small gland at the base of the brain) produces **excess growth hormone (GH)** during adulthood. This leads to the overproduction of **insulin-like growth factor-1 (IGF-1)**, causing gradual **enlargement of bones and tissues**, particularly in the hands, feet, and face.\\n\\n### **Causes**\\nThe most common cause is a **benign (non-cancerous) tumor (adenoma)** of the pituitary gland that secretes excess GH. Rarely, it can be caused by tumors in other parts of the body (e.g., lungs, pancreas) that produce **growth hormone-releasing hormone (GHRH)**, stimulating the pituitary to overproduce GH.\\n\\n### **Symptoms**\\nAcromegaly develops **slowly over years**, making early diagnosis challenging. Common signs and symptoms include:\\n\\n#### **Physical Changes:**\\n- **Enlarged hands and feet** (rings and shoes no longer fit)\\n- **Coarsened facial features** (protruding jaw, enlarged nose, thickened lips, prominent forehead)\\n- **Skin changes** (oily, thickened skin, excessive sweating, skin tags)\\n- **Deepened voice** (due to enlarged vocal cords and sinuses)\\n- **Jaw misalignment** (prognathism, leading to teeth spacing)\\n\\n#### **Systemic Effects:**\\n- **Joint pain and arthritis** (due to bone and cartilage overgrowth)\\n- **Carpal tunnel syndrome** (nerve compression in the wrist)\\n- **Fatigue and muscle weakness**\\n- **Headaches and vision problems** (if the tumor presses on the optic nerve)\\n- **Sleep apnea** (due to enlarged tongue and soft tissues in the throat)\\n- **Enlarged heart (cardiomegaly)**, high blood pressure, and **increased risk of heart disease**\\n- **Type 2 diabetes or insulin resistance** (due to GH’s effect on glucose metabolism)\\n- **Menstrual irregularities in women** and **erectile dysfunction in men**\\n- **Colon polyps** (increased risk of colorectal cancer)\\n\\n### **Diagnosis**\\n1. **Blood Tests:**\\n   - **IGF-1 levels** (elevated in acromegaly)\\n   - **Oral glucose tolerance test (OGTT)** (GH levels should suppress after glucose intake, but in acromegaly, they remain high)\\n2. **Imaging:**\\n   - **MRI or CT scan** of the pituitary gland to detect tumors\\n3. **Other Tests:**\\n   - **Vision testing** (if the tumor affects the optic nerve)\\n   - **Echocardiogram** (to check heart function)\\n\\n### **Treatment**\\nThe goal is to **reduce GH/IGF-1 levels**, **shrink the tumor**, and **relieve symptoms**. Options include:\\n\\n1. **Surgery (Transsphenoidal Adenomectomy):**\\n   - **First-line treatment** for most patients.\\n   - The tumor is removed through the nose or upper lip.\\n   - Success depends on tumor size and location.\\n\\n2. **Medications:**\\n   - **Somatostatin analogs (Octreotide, Lanreotide)** – Reduce GH secretion.\\n   - **GH receptor antagonists (Pegvisomant)** – Block GH action.\\n   - **Dopamine agonists (Cabergoline, Bromocriptine)** – Less effective but may help in some cases.\\n\\n3. **Radiation Therapy:**\\n   - Used if surgery and medications fail.\\n   - **Gamma Knife radiosurgery** or **conventional radiation** can shrink the tumor over time.\\n   - May take years to see full effects and can cause **hypopituitarism** (low hormone levels).\\n\\n### **Complications if Untreated**\\n- **Severe arthritis and joint damage**\\n- **Heart disease (cardiomyopathy, hypertension)**\\n- **Type 2 diabetes**\\n- **Increased cancer risk (especially colorectal)**\\n- **Sleep apnea and respiratory problems**\\n- **Vision loss (if the tumor compresses the optic nerve)**\\n\\n### **Prognosis**\\nWith early diagnosis and treatment, most people with acromegaly can **live a normal lifespan** and manage symptoms effectively. However, **delayed treatment** can lead to **permanent complications**.\\n\\n### **Famous Case: André the Giant**\\nThe professional wrestler **André the Giant** had acromegaly due to a pituitary tumor, leading to his **gigantic size (7\\'4\" tall, ~500 lbs)** and health complications.\\n\\nWould you like more details on any specific aspect?' additional_kwargs={} response_metadata={'token_usage': {'prompt_tokens': 10, 'total_tokens': 983, 'completion_tokens': 973}, 'model_name': 'mistral-large-latest', 'model': 'mistral-large-latest', 'finish_reason': 'stop', 'model_provider': 'mistralai'} id='lc_run--f4fc4de3-1bed-4f79-bfb1-042a1ff3aab8-0' usage_metadata={'input_tokens': 10, 'output_tokens': 973, 'total_tokens': 983}\n"
     ]
    }
   ],
   "source": [
    "from langchain_mistralai import ChatMistralAI\n",
    "\n",
    "llm = ChatMistralAI(\n",
    "    model=\"mistral-large-latest\",\n",
    "    temperature=0.3,\n",
    "    max_retries=2,\n",
    "    # other params...\n",
    ")\n",
    "\n",
    "print(llm.invoke(\"What is Acromegaly?\"))"
   ]
  },
  {
   "cell_type": "code",
   "execution_count": 35,
   "metadata": {},
   "outputs": [],
   "source": [
    "# from langchain.chains import create_retrieval_chain\n",
    "# from langchain.chains.combine_documents import create_stuff_documents_chain\n",
    "from langchain_core.prompts import ChatPromptTemplate\n",
    "\n",
    "\n",
    "system_prompt = (\n",
    "    \"You are an assistant for question-answering tasks. \"\n",
    "    \"Use the following pieces of retrieved context to answer \"\n",
    "    \"the question. If you don't know the answer, say that you \"\n",
    "    \"don't know. Use three sentences maximum and keep the \"\n",
    "    \"answer concise.\"\n",
    "    \"\\n\\n\"\n",
    "    \"{context}\"\n",
    ")\n",
    "\n",
    "\n",
    "prompt = ChatPromptTemplate.from_messages(\n",
    "    [\n",
    "        (\"system\", system_prompt),\n",
    "        (\"human\", \"{input}\"),\n",
    "    ]\n",
    ")"
   ]
  },
  {
   "cell_type": "code",
   "execution_count": 75,
   "metadata": {},
   "outputs": [],
   "source": [
    "from langchain_core.runnables import RunnablePassthrough\n",
    "\n",
    "rag_chain = (\n",
    "    {\"context\": retriever, \"input\": RunnablePassthrough()}\n",
    "    | prompt\n",
    "    | llm\n",
    ")"
   ]
  },
  {
   "cell_type": "code",
   "execution_count": 76,
   "metadata": {},
   "outputs": [],
   "source": [
    "import getpass\n",
    "\n",
    "if \"MISTRAL_API_KEY\" not in os.environ:\n",
    "    os.environ[\"MISTRAL_API_KEY\"] = getpass.getpass(\"Enter your Mistral API key: \")"
   ]
  },
  {
   "cell_type": "code",
   "execution_count": 71,
   "metadata": {},
   "outputs": [
    {
     "name": "stdout",
     "output_type": "stream",
     "text": [
      "X5eabql772ixM3WYt0T3EGgQgE4aQTK6\n"
     ]
    }
   ],
   "source": [
    "!echo %MISTRAL_API_KEY%"
   ]
  },
  {
   "cell_type": "code",
   "execution_count": null,
   "metadata": {},
   "outputs": [
    {
     "name": "stdout",
     "output_type": "stream",
     "text": [
      "Acromegaly is a disorder caused by the abnormal release of growth hormone from the pituitary gland, leading to increased growth in bones and soft tissues, as well as other bodily disturbances.\n",
      "\n",
      "Gigantism is a related condition that occurs when excess growth hormone is released **before** the growth plates in bones close (typically during childhood), resulting in abnormal height and size. Both conditions stem from growth hormone excess but differ in timing and effects.\n"
     ]
    }
   ],
   "source": [
    "response = rag_chain.invoke(\"what is Acromegaly and gigantism?\")\n",
    "print(response.content)"
   ]
  },
  {
   "cell_type": "code",
   "execution_count": 82,
   "metadata": {},
   "outputs": [
    {
     "name": "stdout",
     "output_type": "stream",
     "text": [
      "I don't know. The provided context does not contain information about what \"stats\" refers to.\n"
     ]
    }
   ],
   "source": [
    "response = rag_chain.invoke(\"What is stats?\")\n",
    "print(response.content)"
   ]
  },
  {
   "cell_type": "code",
   "execution_count": null,
   "metadata": {},
   "outputs": [],
   "source": []
  }
 ],
 "metadata": {
  "kernelspec": {
   "display_name": "mediBot",
   "language": "python",
   "name": "python3"
  },
  "language_info": {
   "codemirror_mode": {
    "name": "ipython",
    "version": 3
   },
   "file_extension": ".py",
   "mimetype": "text/x-python",
   "name": "python",
   "nbconvert_exporter": "python",
   "pygments_lexer": "ipython3",
   "version": "3.10.18"
  }
 },
 "nbformat": 4,
 "nbformat_minor": 2
}
